{
  "cells": [
    {
      "cell_type": "markdown",
      "source": [
        "# **Could the self-description of early stage companies on their website serve as a predictive signal for VC to classify their future success?**\n",
        "**Context**"
      ],
      "metadata": {
        "id": "EP29Lx_Xn3nt"
      },
      "id": "EP29Lx_Xn3nt"
    },
    {
      "cell_type": "markdown",
      "source": [
        "VCs invest on startups strategically to earn money. To generate maximum return, it is important to invest on startups that are more likely to succeed. Given the unique challenges each startup faces, one could turn for data-driven insights for making investment choices.\n",
        "\n",
        "We are provided with a data set from Vela Partners consisting of 5843 companies, 2156 are labelled as successful and 3687 are labelled as unsuccessful. In this notebook, we build a classification model using a deep learning approach by learning on the companies' self-description.\n",
        "\n",
        "The model is inherently simple, it takes about 1 minute to train the model. Yet, it is able to give promising predictions. Through cross-validating into 5 folds, the models consistently return an average F1 score of 84%, recall of 82%, precision of 87% and accuracy of 90%."
      ],
      "metadata": {
        "id": "Au6UMURpoZCd"
      },
      "id": "Au6UMURpoZCd"
    },
    {
      "cell_type": "markdown",
      "source": [
        "# **Data Processing**"
      ],
      "metadata": {
        "id": "VZOT8PAFZ3J8"
      },
      "id": "VZOT8PAFZ3J8"
    },
    {
      "cell_type": "code",
      "source": [
        "pip install scikeras"
      ],
      "metadata": {
        "id": "dHxKgS5D9hpM"
      },
      "id": "dHxKgS5D9hpM",
      "execution_count": null,
      "outputs": []
    },
    {
      "cell_type": "code",
      "execution_count": 2,
      "id": "50bda3f4",
      "metadata": {
        "id": "50bda3f4"
      },
      "outputs": [],
      "source": [
        "import numpy as np\n",
        "import pandas as pd\n",
        "import seaborn as sns\n",
        "import matplotlib.pyplot as plt\n",
        "%matplotlib inline\n",
        "\n",
        "import tensorflow as tf\n",
        "from sklearn.metrics import confusion_matrix, classification_report\n",
        "from sklearn.model_selection import KFold, cross_validate\n",
        "from sklearn.model_selection import train_test_split\n",
        "from scikeras.wrappers import KerasClassifier\n",
        "from sklearn.metrics import make_scorer, f1_score, precision_score, recall_score, accuracy_score\n",
        "\n",
        "import warnings\n",
        "warnings.filterwarnings(\"ignore\")"
      ]
    },
    {
      "cell_type": "code",
      "source": [
        "from google.colab import drive\n",
        "drive.mount('/content/drive')"
      ],
      "metadata": {
        "id": "dBRCRL-3WHkJ",
        "colab": {
          "base_uri": "https://localhost:8080/"
        },
        "outputId": "9c573fb7-cd46-42ef-ac29-d1f1b964f071"
      },
      "id": "dBRCRL-3WHkJ",
      "execution_count": 3,
      "outputs": [
        {
          "output_type": "stream",
          "name": "stdout",
          "text": [
            "Mounted at /content/drive\n"
          ]
        }
      ]
    },
    {
      "cell_type": "markdown",
      "source": [
        "Loading successful(s for successful) startup dataset"
      ],
      "metadata": {
        "id": "mtMk0lTH2kWq"
      },
      "id": "mtMk0lTH2kWq"
    },
    {
      "cell_type": "code",
      "execution_count": 4,
      "id": "19dcc27c",
      "metadata": {
        "id": "19dcc27c"
      },
      "outputs": [],
      "source": [
        "s = pd.read_excel(\"/content/drive/My Drive/Vela Partners/Datasets/successful.xlsx\", sheet_name = 'Long company descriptions')"
      ]
    },
    {
      "cell_type": "markdown",
      "source": [
        "Focus on long company description, showing the first 10 records of s"
      ],
      "metadata": {
        "id": "YdFrTLjh25Ru"
      },
      "id": "YdFrTLjh25Ru"
    },
    {
      "cell_type": "code",
      "source": [
        "s.head(10)"
      ],
      "metadata": {
        "id": "Wdl2_qFE1Ykx",
        "colab": {
          "base_uri": "https://localhost:8080/",
          "height": 363
        },
        "outputId": "4265fe08-aacf-4fec-ef7e-b7e6850d15ef"
      },
      "id": "Wdl2_qFE1Ykx",
      "execution_count": 5,
      "outputs": [
        {
          "output_type": "execute_result",
          "data": {
            "text/plain": [
              "                    org_name                              org_uuid  \\\n",
              "0                10X Banking  a2323b6c-29b9-4750-905c-cdcbd9ce92b8   \n",
              "1               10X Genomics  cf3b00cf-ffbf-0e4f-6427-a60e5060de39   \n",
              "2                  111, Inc.  0680987f-23cd-4fa5-850c-38326fffaa36   \n",
              "3                    17zuoye  a79a6ae8-3c74-0db7-7e6b-b4f7662d37e8   \n",
              "4                  1Komma5¬∞  1ca6a7b3-465b-443d-9028-388cfd1ad060   \n",
              "5                      1inch  8e5b2628-6d2b-4f0a-9808-07c935156515   \n",
              "6                360Learning  0995a94f-0661-0db6-fcae-cbb89937c945   \n",
              "7               3D Medicines  73588380-c823-48db-9139-31c17b38862b   \n",
              "8  4D Molecular Therapeutics  310235fd-88ee-87dd-d394-b71762ba2431   \n",
              "9                4G Clinical  e94407ea-d3a5-0f75-f3d0-30ab8a43ac44   \n",
              "\n",
              "                                    long_description  \n",
              "0  10x Banking (10x), a financial services techno...  \n",
              "1  10x Genomics is creating revolutionary DNA seq...  \n",
              "2  111,Inc. is a leading digital and mobile healt...  \n",
              "3  17zuoye is an online learning platform for K-1...  \n",
              "4  KOMMA5 ¬∞ offers all owners of electric vehicl...  \n",
              "5  1inch Limited builds decentralized protocols a...  \n",
              "6  360Learning develops a collaborative learning ...  \n",
              "7  3D Medicines, we use individual‚Äôs genetic in...  \n",
              "8  4D Molecular Therapeutics is a biotechnology c...  \n",
              "9  4G Clinical provides software and services for...  "
            ],
            "text/html": [
              "\n",
              "  <div id=\"df-f15b7abd-1419-40ed-aa4d-58a5205d6be3\" class=\"colab-df-container\">\n",
              "    <div>\n",
              "<style scoped>\n",
              "    .dataframe tbody tr th:only-of-type {\n",
              "        vertical-align: middle;\n",
              "    }\n",
              "\n",
              "    .dataframe tbody tr th {\n",
              "        vertical-align: top;\n",
              "    }\n",
              "\n",
              "    .dataframe thead th {\n",
              "        text-align: right;\n",
              "    }\n",
              "</style>\n",
              "<table border=\"1\" class=\"dataframe\">\n",
              "  <thead>\n",
              "    <tr style=\"text-align: right;\">\n",
              "      <th></th>\n",
              "      <th>org_name</th>\n",
              "      <th>org_uuid</th>\n",
              "      <th>long_description</th>\n",
              "    </tr>\n",
              "  </thead>\n",
              "  <tbody>\n",
              "    <tr>\n",
              "      <th>0</th>\n",
              "      <td>10X Banking</td>\n",
              "      <td>a2323b6c-29b9-4750-905c-cdcbd9ce92b8</td>\n",
              "      <td>10x Banking (10x), a financial services techno...</td>\n",
              "    </tr>\n",
              "    <tr>\n",
              "      <th>1</th>\n",
              "      <td>10X Genomics</td>\n",
              "      <td>cf3b00cf-ffbf-0e4f-6427-a60e5060de39</td>\n",
              "      <td>10x Genomics is creating revolutionary DNA seq...</td>\n",
              "    </tr>\n",
              "    <tr>\n",
              "      <th>2</th>\n",
              "      <td>111, Inc.</td>\n",
              "      <td>0680987f-23cd-4fa5-850c-38326fffaa36</td>\n",
              "      <td>111,Inc. is a leading digital and mobile healt...</td>\n",
              "    </tr>\n",
              "    <tr>\n",
              "      <th>3</th>\n",
              "      <td>17zuoye</td>\n",
              "      <td>a79a6ae8-3c74-0db7-7e6b-b4f7662d37e8</td>\n",
              "      <td>17zuoye is an online learning platform for K-1...</td>\n",
              "    </tr>\n",
              "    <tr>\n",
              "      <th>4</th>\n",
              "      <td>1Komma5¬∞</td>\n",
              "      <td>1ca6a7b3-465b-443d-9028-388cfd1ad060</td>\n",
              "      <td>KOMMA5 ¬∞ offers all owners of electric vehicl...</td>\n",
              "    </tr>\n",
              "    <tr>\n",
              "      <th>5</th>\n",
              "      <td>1inch</td>\n",
              "      <td>8e5b2628-6d2b-4f0a-9808-07c935156515</td>\n",
              "      <td>1inch Limited builds decentralized protocols a...</td>\n",
              "    </tr>\n",
              "    <tr>\n",
              "      <th>6</th>\n",
              "      <td>360Learning</td>\n",
              "      <td>0995a94f-0661-0db6-fcae-cbb89937c945</td>\n",
              "      <td>360Learning develops a collaborative learning ...</td>\n",
              "    </tr>\n",
              "    <tr>\n",
              "      <th>7</th>\n",
              "      <td>3D Medicines</td>\n",
              "      <td>73588380-c823-48db-9139-31c17b38862b</td>\n",
              "      <td>3D Medicines, we use individual‚Äôs genetic in...</td>\n",
              "    </tr>\n",
              "    <tr>\n",
              "      <th>8</th>\n",
              "      <td>4D Molecular Therapeutics</td>\n",
              "      <td>310235fd-88ee-87dd-d394-b71762ba2431</td>\n",
              "      <td>4D Molecular Therapeutics is a biotechnology c...</td>\n",
              "    </tr>\n",
              "    <tr>\n",
              "      <th>9</th>\n",
              "      <td>4G Clinical</td>\n",
              "      <td>e94407ea-d3a5-0f75-f3d0-30ab8a43ac44</td>\n",
              "      <td>4G Clinical provides software and services for...</td>\n",
              "    </tr>\n",
              "  </tbody>\n",
              "</table>\n",
              "</div>\n",
              "    <div class=\"colab-df-buttons\">\n",
              "\n",
              "  <div class=\"colab-df-container\">\n",
              "    <button class=\"colab-df-convert\" onclick=\"convertToInteractive('df-f15b7abd-1419-40ed-aa4d-58a5205d6be3')\"\n",
              "            title=\"Convert this dataframe to an interactive table.\"\n",
              "            style=\"display:none;\">\n",
              "\n",
              "  <svg xmlns=\"http://www.w3.org/2000/svg\" height=\"24px\" viewBox=\"0 -960 960 960\">\n",
              "    <path d=\"M120-120v-720h720v720H120Zm60-500h600v-160H180v160Zm220 220h160v-160H400v160Zm0 220h160v-160H400v160ZM180-400h160v-160H180v160Zm440 0h160v-160H620v160ZM180-180h160v-160H180v160Zm440 0h160v-160H620v160Z\"/>\n",
              "  </svg>\n",
              "    </button>\n",
              "\n",
              "  <style>\n",
              "    .colab-df-container {\n",
              "      display:flex;\n",
              "      gap: 12px;\n",
              "    }\n",
              "\n",
              "    .colab-df-convert {\n",
              "      background-color: #E8F0FE;\n",
              "      border: none;\n",
              "      border-radius: 50%;\n",
              "      cursor: pointer;\n",
              "      display: none;\n",
              "      fill: #1967D2;\n",
              "      height: 32px;\n",
              "      padding: 0 0 0 0;\n",
              "      width: 32px;\n",
              "    }\n",
              "\n",
              "    .colab-df-convert:hover {\n",
              "      background-color: #E2EBFA;\n",
              "      box-shadow: 0px 1px 2px rgba(60, 64, 67, 0.3), 0px 1px 3px 1px rgba(60, 64, 67, 0.15);\n",
              "      fill: #174EA6;\n",
              "    }\n",
              "\n",
              "    .colab-df-buttons div {\n",
              "      margin-bottom: 4px;\n",
              "    }\n",
              "\n",
              "    [theme=dark] .colab-df-convert {\n",
              "      background-color: #3B4455;\n",
              "      fill: #D2E3FC;\n",
              "    }\n",
              "\n",
              "    [theme=dark] .colab-df-convert:hover {\n",
              "      background-color: #434B5C;\n",
              "      box-shadow: 0px 1px 3px 1px rgba(0, 0, 0, 0.15);\n",
              "      filter: drop-shadow(0px 1px 2px rgba(0, 0, 0, 0.3));\n",
              "      fill: #FFFFFF;\n",
              "    }\n",
              "  </style>\n",
              "\n",
              "    <script>\n",
              "      const buttonEl =\n",
              "        document.querySelector('#df-f15b7abd-1419-40ed-aa4d-58a5205d6be3 button.colab-df-convert');\n",
              "      buttonEl.style.display =\n",
              "        google.colab.kernel.accessAllowed ? 'block' : 'none';\n",
              "\n",
              "      async function convertToInteractive(key) {\n",
              "        const element = document.querySelector('#df-f15b7abd-1419-40ed-aa4d-58a5205d6be3');\n",
              "        const dataTable =\n",
              "          await google.colab.kernel.invokeFunction('convertToInteractive',\n",
              "                                                    [key], {});\n",
              "        if (!dataTable) return;\n",
              "\n",
              "        const docLinkHtml = 'Like what you see? Visit the ' +\n",
              "          '<a target=\"_blank\" href=https://colab.research.google.com/notebooks/data_table.ipynb>data table notebook</a>'\n",
              "          + ' to learn more about interactive tables.';\n",
              "        element.innerHTML = '';\n",
              "        dataTable['output_type'] = 'display_data';\n",
              "        await google.colab.output.renderOutput(dataTable, element);\n",
              "        const docLink = document.createElement('div');\n",
              "        docLink.innerHTML = docLinkHtml;\n",
              "        element.appendChild(docLink);\n",
              "      }\n",
              "    </script>\n",
              "  </div>\n",
              "\n",
              "\n",
              "<div id=\"df-d7023c59-b2b8-475c-a3ff-3023de95ad81\">\n",
              "  <button class=\"colab-df-quickchart\" onclick=\"quickchart('df-d7023c59-b2b8-475c-a3ff-3023de95ad81')\"\n",
              "            title=\"Suggest charts\"\n",
              "            style=\"display:none;\">\n",
              "\n",
              "<svg xmlns=\"http://www.w3.org/2000/svg\" height=\"24px\"viewBox=\"0 0 24 24\"\n",
              "     width=\"24px\">\n",
              "    <g>\n",
              "        <path d=\"M19 3H5c-1.1 0-2 .9-2 2v14c0 1.1.9 2 2 2h14c1.1 0 2-.9 2-2V5c0-1.1-.9-2-2-2zM9 17H7v-7h2v7zm4 0h-2V7h2v10zm4 0h-2v-4h2v4z\"/>\n",
              "    </g>\n",
              "</svg>\n",
              "  </button>\n",
              "\n",
              "<style>\n",
              "  .colab-df-quickchart {\n",
              "      --bg-color: #E8F0FE;\n",
              "      --fill-color: #1967D2;\n",
              "      --hover-bg-color: #E2EBFA;\n",
              "      --hover-fill-color: #174EA6;\n",
              "      --disabled-fill-color: #AAA;\n",
              "      --disabled-bg-color: #DDD;\n",
              "  }\n",
              "\n",
              "  [theme=dark] .colab-df-quickchart {\n",
              "      --bg-color: #3B4455;\n",
              "      --fill-color: #D2E3FC;\n",
              "      --hover-bg-color: #434B5C;\n",
              "      --hover-fill-color: #FFFFFF;\n",
              "      --disabled-bg-color: #3B4455;\n",
              "      --disabled-fill-color: #666;\n",
              "  }\n",
              "\n",
              "  .colab-df-quickchart {\n",
              "    background-color: var(--bg-color);\n",
              "    border: none;\n",
              "    border-radius: 50%;\n",
              "    cursor: pointer;\n",
              "    display: none;\n",
              "    fill: var(--fill-color);\n",
              "    height: 32px;\n",
              "    padding: 0;\n",
              "    width: 32px;\n",
              "  }\n",
              "\n",
              "  .colab-df-quickchart:hover {\n",
              "    background-color: var(--hover-bg-color);\n",
              "    box-shadow: 0 1px 2px rgba(60, 64, 67, 0.3), 0 1px 3px 1px rgba(60, 64, 67, 0.15);\n",
              "    fill: var(--button-hover-fill-color);\n",
              "  }\n",
              "\n",
              "  .colab-df-quickchart-complete:disabled,\n",
              "  .colab-df-quickchart-complete:disabled:hover {\n",
              "    background-color: var(--disabled-bg-color);\n",
              "    fill: var(--disabled-fill-color);\n",
              "    box-shadow: none;\n",
              "  }\n",
              "\n",
              "  .colab-df-spinner {\n",
              "    border: 2px solid var(--fill-color);\n",
              "    border-color: transparent;\n",
              "    border-bottom-color: var(--fill-color);\n",
              "    animation:\n",
              "      spin 1s steps(1) infinite;\n",
              "  }\n",
              "\n",
              "  @keyframes spin {\n",
              "    0% {\n",
              "      border-color: transparent;\n",
              "      border-bottom-color: var(--fill-color);\n",
              "      border-left-color: var(--fill-color);\n",
              "    }\n",
              "    20% {\n",
              "      border-color: transparent;\n",
              "      border-left-color: var(--fill-color);\n",
              "      border-top-color: var(--fill-color);\n",
              "    }\n",
              "    30% {\n",
              "      border-color: transparent;\n",
              "      border-left-color: var(--fill-color);\n",
              "      border-top-color: var(--fill-color);\n",
              "      border-right-color: var(--fill-color);\n",
              "    }\n",
              "    40% {\n",
              "      border-color: transparent;\n",
              "      border-right-color: var(--fill-color);\n",
              "      border-top-color: var(--fill-color);\n",
              "    }\n",
              "    60% {\n",
              "      border-color: transparent;\n",
              "      border-right-color: var(--fill-color);\n",
              "    }\n",
              "    80% {\n",
              "      border-color: transparent;\n",
              "      border-right-color: var(--fill-color);\n",
              "      border-bottom-color: var(--fill-color);\n",
              "    }\n",
              "    90% {\n",
              "      border-color: transparent;\n",
              "      border-bottom-color: var(--fill-color);\n",
              "    }\n",
              "  }\n",
              "</style>\n",
              "\n",
              "  <script>\n",
              "    async function quickchart(key) {\n",
              "      const quickchartButtonEl =\n",
              "        document.querySelector('#' + key + ' button');\n",
              "      quickchartButtonEl.disabled = true;  // To prevent multiple clicks.\n",
              "      quickchartButtonEl.classList.add('colab-df-spinner');\n",
              "      try {\n",
              "        const charts = await google.colab.kernel.invokeFunction(\n",
              "            'suggestCharts', [key], {});\n",
              "      } catch (error) {\n",
              "        console.error('Error during call to suggestCharts:', error);\n",
              "      }\n",
              "      quickchartButtonEl.classList.remove('colab-df-spinner');\n",
              "      quickchartButtonEl.classList.add('colab-df-quickchart-complete');\n",
              "    }\n",
              "    (() => {\n",
              "      let quickchartButtonEl =\n",
              "        document.querySelector('#df-d7023c59-b2b8-475c-a3ff-3023de95ad81 button');\n",
              "      quickchartButtonEl.style.display =\n",
              "        google.colab.kernel.accessAllowed ? 'block' : 'none';\n",
              "    })();\n",
              "  </script>\n",
              "</div>\n",
              "    </div>\n",
              "  </div>\n"
            ]
          },
          "metadata": {},
          "execution_count": 5
        }
      ]
    },
    {
      "cell_type": "code",
      "source": [
        "s[s.duplicated()]"
      ],
      "metadata": {
        "colab": {
          "base_uri": "https://localhost:8080/",
          "height": 53
        },
        "id": "Sd9BdzQ11mg1",
        "outputId": "c42fca93-135f-4966-aad6-65cb8480f949"
      },
      "id": "Sd9BdzQ11mg1",
      "execution_count": 6,
      "outputs": [
        {
          "output_type": "execute_result",
          "data": {
            "text/plain": [
              "Empty DataFrame\n",
              "Columns: [org_name, org_uuid, long_description]\n",
              "Index: []"
            ],
            "text/html": [
              "\n",
              "  <div id=\"df-f9378557-4a43-4edf-9941-d9d0d7ff9958\" class=\"colab-df-container\">\n",
              "    <div>\n",
              "<style scoped>\n",
              "    .dataframe tbody tr th:only-of-type {\n",
              "        vertical-align: middle;\n",
              "    }\n",
              "\n",
              "    .dataframe tbody tr th {\n",
              "        vertical-align: top;\n",
              "    }\n",
              "\n",
              "    .dataframe thead th {\n",
              "        text-align: right;\n",
              "    }\n",
              "</style>\n",
              "<table border=\"1\" class=\"dataframe\">\n",
              "  <thead>\n",
              "    <tr style=\"text-align: right;\">\n",
              "      <th></th>\n",
              "      <th>org_name</th>\n",
              "      <th>org_uuid</th>\n",
              "      <th>long_description</th>\n",
              "    </tr>\n",
              "  </thead>\n",
              "  <tbody>\n",
              "  </tbody>\n",
              "</table>\n",
              "</div>\n",
              "    <div class=\"colab-df-buttons\">\n",
              "\n",
              "  <div class=\"colab-df-container\">\n",
              "    <button class=\"colab-df-convert\" onclick=\"convertToInteractive('df-f9378557-4a43-4edf-9941-d9d0d7ff9958')\"\n",
              "            title=\"Convert this dataframe to an interactive table.\"\n",
              "            style=\"display:none;\">\n",
              "\n",
              "  <svg xmlns=\"http://www.w3.org/2000/svg\" height=\"24px\" viewBox=\"0 -960 960 960\">\n",
              "    <path d=\"M120-120v-720h720v720H120Zm60-500h600v-160H180v160Zm220 220h160v-160H400v160Zm0 220h160v-160H400v160ZM180-400h160v-160H180v160Zm440 0h160v-160H620v160ZM180-180h160v-160H180v160Zm440 0h160v-160H620v160Z\"/>\n",
              "  </svg>\n",
              "    </button>\n",
              "\n",
              "  <style>\n",
              "    .colab-df-container {\n",
              "      display:flex;\n",
              "      gap: 12px;\n",
              "    }\n",
              "\n",
              "    .colab-df-convert {\n",
              "      background-color: #E8F0FE;\n",
              "      border: none;\n",
              "      border-radius: 50%;\n",
              "      cursor: pointer;\n",
              "      display: none;\n",
              "      fill: #1967D2;\n",
              "      height: 32px;\n",
              "      padding: 0 0 0 0;\n",
              "      width: 32px;\n",
              "    }\n",
              "\n",
              "    .colab-df-convert:hover {\n",
              "      background-color: #E2EBFA;\n",
              "      box-shadow: 0px 1px 2px rgba(60, 64, 67, 0.3), 0px 1px 3px 1px rgba(60, 64, 67, 0.15);\n",
              "      fill: #174EA6;\n",
              "    }\n",
              "\n",
              "    .colab-df-buttons div {\n",
              "      margin-bottom: 4px;\n",
              "    }\n",
              "\n",
              "    [theme=dark] .colab-df-convert {\n",
              "      background-color: #3B4455;\n",
              "      fill: #D2E3FC;\n",
              "    }\n",
              "\n",
              "    [theme=dark] .colab-df-convert:hover {\n",
              "      background-color: #434B5C;\n",
              "      box-shadow: 0px 1px 3px 1px rgba(0, 0, 0, 0.15);\n",
              "      filter: drop-shadow(0px 1px 2px rgba(0, 0, 0, 0.3));\n",
              "      fill: #FFFFFF;\n",
              "    }\n",
              "  </style>\n",
              "\n",
              "    <script>\n",
              "      const buttonEl =\n",
              "        document.querySelector('#df-f9378557-4a43-4edf-9941-d9d0d7ff9958 button.colab-df-convert');\n",
              "      buttonEl.style.display =\n",
              "        google.colab.kernel.accessAllowed ? 'block' : 'none';\n",
              "\n",
              "      async function convertToInteractive(key) {\n",
              "        const element = document.querySelector('#df-f9378557-4a43-4edf-9941-d9d0d7ff9958');\n",
              "        const dataTable =\n",
              "          await google.colab.kernel.invokeFunction('convertToInteractive',\n",
              "                                                    [key], {});\n",
              "        if (!dataTable) return;\n",
              "\n",
              "        const docLinkHtml = 'Like what you see? Visit the ' +\n",
              "          '<a target=\"_blank\" href=https://colab.research.google.com/notebooks/data_table.ipynb>data table notebook</a>'\n",
              "          + ' to learn more about interactive tables.';\n",
              "        element.innerHTML = '';\n",
              "        dataTable['output_type'] = 'display_data';\n",
              "        await google.colab.output.renderOutput(dataTable, element);\n",
              "        const docLink = document.createElement('div');\n",
              "        docLink.innerHTML = docLinkHtml;\n",
              "        element.appendChild(docLink);\n",
              "      }\n",
              "    </script>\n",
              "  </div>\n",
              "\n",
              "    </div>\n",
              "  </div>\n"
            ]
          },
          "metadata": {},
          "execution_count": 6
        }
      ]
    },
    {
      "cell_type": "markdown",
      "source": [
        "There are no duplicated entries in s."
      ],
      "metadata": {
        "id": "-Db0StZ851Dq"
      },
      "id": "-Db0StZ851Dq"
    },
    {
      "cell_type": "code",
      "source": [
        "s.isnull().values.any()"
      ],
      "metadata": {
        "colab": {
          "base_uri": "https://localhost:8080/"
        },
        "id": "g4o0ut7v66kM",
        "outputId": "0092c99e-c4ca-4b47-c1b9-240472ea15a5"
      },
      "id": "g4o0ut7v66kM",
      "execution_count": 7,
      "outputs": [
        {
          "output_type": "execute_result",
          "data": {
            "text/plain": [
              "False"
            ]
          },
          "metadata": {},
          "execution_count": 7
        }
      ]
    },
    {
      "cell_type": "markdown",
      "source": [
        "There are no missing values in s."
      ],
      "metadata": {
        "id": "Xjr_PJOh6-bH"
      },
      "id": "Xjr_PJOh6-bH"
    },
    {
      "cell_type": "code",
      "source": [
        "s.shape[0]"
      ],
      "metadata": {
        "colab": {
          "base_uri": "https://localhost:8080/"
        },
        "id": "3CUL8tZQOtmG",
        "outputId": "d082a5df-d95a-43b2-b190-6e01dbeaeb40"
      },
      "id": "3CUL8tZQOtmG",
      "execution_count": 8,
      "outputs": [
        {
          "output_type": "execute_result",
          "data": {
            "text/plain": [
              "2156"
            ]
          },
          "metadata": {},
          "execution_count": 8
        }
      ]
    },
    {
      "cell_type": "markdown",
      "source": [
        "There are 2156 successful entries"
      ],
      "metadata": {
        "id": "b1Iqk91TO3ux"
      },
      "id": "b1Iqk91TO3ux"
    },
    {
      "cell_type": "markdown",
      "source": [
        "Loading unsuccessful(f for fail) startup dataset"
      ],
      "metadata": {
        "id": "rF0ROS4MIsHb"
      },
      "id": "rF0ROS4MIsHb"
    },
    {
      "cell_type": "code",
      "execution_count": 9,
      "id": "18baf286",
      "metadata": {
        "id": "18baf286"
      },
      "outputs": [],
      "source": [
        "f = pd.read_excel(\"/content/drive/My Drive/Vela Partners/Datasets/unsuccessful.xlsx\", sheet_name = 'Long company descriptions')\n"
      ]
    },
    {
      "cell_type": "markdown",
      "source": [
        "The first 10 entries of failed startups long description"
      ],
      "metadata": {
        "id": "NZWGbg0w6TII"
      },
      "id": "NZWGbg0w6TII"
    },
    {
      "cell_type": "code",
      "source": [
        "f.head(10)"
      ],
      "metadata": {
        "colab": {
          "base_uri": "https://localhost:8080/",
          "height": 363
        },
        "id": "3MX01F266P7v",
        "outputId": "7d4d5a11-cfce-4524-ff06-3697d9c1dba5"
      },
      "id": "3MX01F266P7v",
      "execution_count": 10,
      "outputs": [
        {
          "output_type": "execute_result",
          "data": {
            "text/plain": [
              "            org_name                              org_uuid  \\\n",
              "0      .Club Domains  477b73e7-f956-955d-06c0-2dc705a7e6de   \n",
              "1             0glass  0ae0c059-31ac-4979-132f-352b31a6d448   \n",
              "2           100offer  0cebce5a-3efc-dd27-5ce6-a42245a79cf9   \n",
              "3            101 Edu  934bd25a-4b91-9d78-12c3-524c679d3e69   \n",
              "4             17hats  c852c5d3-220d-2eb6-c78e-3c9148430ce4   \n",
              "5   1928 Diagnostics  e862bea8-d437-2370-6ccc-b117d5549e51   \n",
              "6         1939 Games  87366b68-8997-b2e3-a601-bb37ee89a1fd   \n",
              "7              1DOC3  474524a8-5ffa-8ef9-a4c9-3effe64e21e0   \n",
              "8  1Drop Diagnostics  df4774f0-cfd6-e0f7-abae-0394e7c658ef   \n",
              "9            1Huddle  51e4aae5-6ad5-e054-317b-7428bffd0870   \n",
              "\n",
              "                                    long_description  \n",
              "0  .Club Domains is a domain extension for the so...  \n",
              "1  0glass is the first high-tech company to apply...  \n",
              "2  100offer is an opportunity marketplace for tal...  \n",
              "3  101 builds mobile-first teaching and assessmen...  \n",
              "4  17hats has become the small business owners ch...  \n",
              "5  1928 Diagnostics is a digital health company, ...  \n",
              "6  1939 Games is a indie game development studio ...  \n",
              "7  1doc3 is a e-health platform that connects 490...  \n",
              "8  1Drop Diagnostics is a cutting edge medical di...  \n",
              "9  Today, companies struggle to onboard, upskill ...  "
            ],
            "text/html": [
              "\n",
              "  <div id=\"df-2b3263b6-f105-41d0-9cde-1632561b0084\" class=\"colab-df-container\">\n",
              "    <div>\n",
              "<style scoped>\n",
              "    .dataframe tbody tr th:only-of-type {\n",
              "        vertical-align: middle;\n",
              "    }\n",
              "\n",
              "    .dataframe tbody tr th {\n",
              "        vertical-align: top;\n",
              "    }\n",
              "\n",
              "    .dataframe thead th {\n",
              "        text-align: right;\n",
              "    }\n",
              "</style>\n",
              "<table border=\"1\" class=\"dataframe\">\n",
              "  <thead>\n",
              "    <tr style=\"text-align: right;\">\n",
              "      <th></th>\n",
              "      <th>org_name</th>\n",
              "      <th>org_uuid</th>\n",
              "      <th>long_description</th>\n",
              "    </tr>\n",
              "  </thead>\n",
              "  <tbody>\n",
              "    <tr>\n",
              "      <th>0</th>\n",
              "      <td>.Club Domains</td>\n",
              "      <td>477b73e7-f956-955d-06c0-2dc705a7e6de</td>\n",
              "      <td>.Club Domains is a domain extension for the so...</td>\n",
              "    </tr>\n",
              "    <tr>\n",
              "      <th>1</th>\n",
              "      <td>0glass</td>\n",
              "      <td>0ae0c059-31ac-4979-132f-352b31a6d448</td>\n",
              "      <td>0glass is the first high-tech company to apply...</td>\n",
              "    </tr>\n",
              "    <tr>\n",
              "      <th>2</th>\n",
              "      <td>100offer</td>\n",
              "      <td>0cebce5a-3efc-dd27-5ce6-a42245a79cf9</td>\n",
              "      <td>100offer is an opportunity marketplace for tal...</td>\n",
              "    </tr>\n",
              "    <tr>\n",
              "      <th>3</th>\n",
              "      <td>101 Edu</td>\n",
              "      <td>934bd25a-4b91-9d78-12c3-524c679d3e69</td>\n",
              "      <td>101 builds mobile-first teaching and assessmen...</td>\n",
              "    </tr>\n",
              "    <tr>\n",
              "      <th>4</th>\n",
              "      <td>17hats</td>\n",
              "      <td>c852c5d3-220d-2eb6-c78e-3c9148430ce4</td>\n",
              "      <td>17hats has become the small business owners ch...</td>\n",
              "    </tr>\n",
              "    <tr>\n",
              "      <th>5</th>\n",
              "      <td>1928 Diagnostics</td>\n",
              "      <td>e862bea8-d437-2370-6ccc-b117d5549e51</td>\n",
              "      <td>1928 Diagnostics is a digital health company, ...</td>\n",
              "    </tr>\n",
              "    <tr>\n",
              "      <th>6</th>\n",
              "      <td>1939 Games</td>\n",
              "      <td>87366b68-8997-b2e3-a601-bb37ee89a1fd</td>\n",
              "      <td>1939 Games is a indie game development studio ...</td>\n",
              "    </tr>\n",
              "    <tr>\n",
              "      <th>7</th>\n",
              "      <td>1DOC3</td>\n",
              "      <td>474524a8-5ffa-8ef9-a4c9-3effe64e21e0</td>\n",
              "      <td>1doc3 is a e-health platform that connects 490...</td>\n",
              "    </tr>\n",
              "    <tr>\n",
              "      <th>8</th>\n",
              "      <td>1Drop Diagnostics</td>\n",
              "      <td>df4774f0-cfd6-e0f7-abae-0394e7c658ef</td>\n",
              "      <td>1Drop Diagnostics is a cutting edge medical di...</td>\n",
              "    </tr>\n",
              "    <tr>\n",
              "      <th>9</th>\n",
              "      <td>1Huddle</td>\n",
              "      <td>51e4aae5-6ad5-e054-317b-7428bffd0870</td>\n",
              "      <td>Today, companies struggle to onboard, upskill ...</td>\n",
              "    </tr>\n",
              "  </tbody>\n",
              "</table>\n",
              "</div>\n",
              "    <div class=\"colab-df-buttons\">\n",
              "\n",
              "  <div class=\"colab-df-container\">\n",
              "    <button class=\"colab-df-convert\" onclick=\"convertToInteractive('df-2b3263b6-f105-41d0-9cde-1632561b0084')\"\n",
              "            title=\"Convert this dataframe to an interactive table.\"\n",
              "            style=\"display:none;\">\n",
              "\n",
              "  <svg xmlns=\"http://www.w3.org/2000/svg\" height=\"24px\" viewBox=\"0 -960 960 960\">\n",
              "    <path d=\"M120-120v-720h720v720H120Zm60-500h600v-160H180v160Zm220 220h160v-160H400v160Zm0 220h160v-160H400v160ZM180-400h160v-160H180v160Zm440 0h160v-160H620v160ZM180-180h160v-160H180v160Zm440 0h160v-160H620v160Z\"/>\n",
              "  </svg>\n",
              "    </button>\n",
              "\n",
              "  <style>\n",
              "    .colab-df-container {\n",
              "      display:flex;\n",
              "      gap: 12px;\n",
              "    }\n",
              "\n",
              "    .colab-df-convert {\n",
              "      background-color: #E8F0FE;\n",
              "      border: none;\n",
              "      border-radius: 50%;\n",
              "      cursor: pointer;\n",
              "      display: none;\n",
              "      fill: #1967D2;\n",
              "      height: 32px;\n",
              "      padding: 0 0 0 0;\n",
              "      width: 32px;\n",
              "    }\n",
              "\n",
              "    .colab-df-convert:hover {\n",
              "      background-color: #E2EBFA;\n",
              "      box-shadow: 0px 1px 2px rgba(60, 64, 67, 0.3), 0px 1px 3px 1px rgba(60, 64, 67, 0.15);\n",
              "      fill: #174EA6;\n",
              "    }\n",
              "\n",
              "    .colab-df-buttons div {\n",
              "      margin-bottom: 4px;\n",
              "    }\n",
              "\n",
              "    [theme=dark] .colab-df-convert {\n",
              "      background-color: #3B4455;\n",
              "      fill: #D2E3FC;\n",
              "    }\n",
              "\n",
              "    [theme=dark] .colab-df-convert:hover {\n",
              "      background-color: #434B5C;\n",
              "      box-shadow: 0px 1px 3px 1px rgba(0, 0, 0, 0.15);\n",
              "      filter: drop-shadow(0px 1px 2px rgba(0, 0, 0, 0.3));\n",
              "      fill: #FFFFFF;\n",
              "    }\n",
              "  </style>\n",
              "\n",
              "    <script>\n",
              "      const buttonEl =\n",
              "        document.querySelector('#df-2b3263b6-f105-41d0-9cde-1632561b0084 button.colab-df-convert');\n",
              "      buttonEl.style.display =\n",
              "        google.colab.kernel.accessAllowed ? 'block' : 'none';\n",
              "\n",
              "      async function convertToInteractive(key) {\n",
              "        const element = document.querySelector('#df-2b3263b6-f105-41d0-9cde-1632561b0084');\n",
              "        const dataTable =\n",
              "          await google.colab.kernel.invokeFunction('convertToInteractive',\n",
              "                                                    [key], {});\n",
              "        if (!dataTable) return;\n",
              "\n",
              "        const docLinkHtml = 'Like what you see? Visit the ' +\n",
              "          '<a target=\"_blank\" href=https://colab.research.google.com/notebooks/data_table.ipynb>data table notebook</a>'\n",
              "          + ' to learn more about interactive tables.';\n",
              "        element.innerHTML = '';\n",
              "        dataTable['output_type'] = 'display_data';\n",
              "        await google.colab.output.renderOutput(dataTable, element);\n",
              "        const docLink = document.createElement('div');\n",
              "        docLink.innerHTML = docLinkHtml;\n",
              "        element.appendChild(docLink);\n",
              "      }\n",
              "    </script>\n",
              "  </div>\n",
              "\n",
              "\n",
              "<div id=\"df-aa342c27-5bd9-4cef-9e7f-bcd2835c810a\">\n",
              "  <button class=\"colab-df-quickchart\" onclick=\"quickchart('df-aa342c27-5bd9-4cef-9e7f-bcd2835c810a')\"\n",
              "            title=\"Suggest charts\"\n",
              "            style=\"display:none;\">\n",
              "\n",
              "<svg xmlns=\"http://www.w3.org/2000/svg\" height=\"24px\"viewBox=\"0 0 24 24\"\n",
              "     width=\"24px\">\n",
              "    <g>\n",
              "        <path d=\"M19 3H5c-1.1 0-2 .9-2 2v14c0 1.1.9 2 2 2h14c1.1 0 2-.9 2-2V5c0-1.1-.9-2-2-2zM9 17H7v-7h2v7zm4 0h-2V7h2v10zm4 0h-2v-4h2v4z\"/>\n",
              "    </g>\n",
              "</svg>\n",
              "  </button>\n",
              "\n",
              "<style>\n",
              "  .colab-df-quickchart {\n",
              "      --bg-color: #E8F0FE;\n",
              "      --fill-color: #1967D2;\n",
              "      --hover-bg-color: #E2EBFA;\n",
              "      --hover-fill-color: #174EA6;\n",
              "      --disabled-fill-color: #AAA;\n",
              "      --disabled-bg-color: #DDD;\n",
              "  }\n",
              "\n",
              "  [theme=dark] .colab-df-quickchart {\n",
              "      --bg-color: #3B4455;\n",
              "      --fill-color: #D2E3FC;\n",
              "      --hover-bg-color: #434B5C;\n",
              "      --hover-fill-color: #FFFFFF;\n",
              "      --disabled-bg-color: #3B4455;\n",
              "      --disabled-fill-color: #666;\n",
              "  }\n",
              "\n",
              "  .colab-df-quickchart {\n",
              "    background-color: var(--bg-color);\n",
              "    border: none;\n",
              "    border-radius: 50%;\n",
              "    cursor: pointer;\n",
              "    display: none;\n",
              "    fill: var(--fill-color);\n",
              "    height: 32px;\n",
              "    padding: 0;\n",
              "    width: 32px;\n",
              "  }\n",
              "\n",
              "  .colab-df-quickchart:hover {\n",
              "    background-color: var(--hover-bg-color);\n",
              "    box-shadow: 0 1px 2px rgba(60, 64, 67, 0.3), 0 1px 3px 1px rgba(60, 64, 67, 0.15);\n",
              "    fill: var(--button-hover-fill-color);\n",
              "  }\n",
              "\n",
              "  .colab-df-quickchart-complete:disabled,\n",
              "  .colab-df-quickchart-complete:disabled:hover {\n",
              "    background-color: var(--disabled-bg-color);\n",
              "    fill: var(--disabled-fill-color);\n",
              "    box-shadow: none;\n",
              "  }\n",
              "\n",
              "  .colab-df-spinner {\n",
              "    border: 2px solid var(--fill-color);\n",
              "    border-color: transparent;\n",
              "    border-bottom-color: var(--fill-color);\n",
              "    animation:\n",
              "      spin 1s steps(1) infinite;\n",
              "  }\n",
              "\n",
              "  @keyframes spin {\n",
              "    0% {\n",
              "      border-color: transparent;\n",
              "      border-bottom-color: var(--fill-color);\n",
              "      border-left-color: var(--fill-color);\n",
              "    }\n",
              "    20% {\n",
              "      border-color: transparent;\n",
              "      border-left-color: var(--fill-color);\n",
              "      border-top-color: var(--fill-color);\n",
              "    }\n",
              "    30% {\n",
              "      border-color: transparent;\n",
              "      border-left-color: var(--fill-color);\n",
              "      border-top-color: var(--fill-color);\n",
              "      border-right-color: var(--fill-color);\n",
              "    }\n",
              "    40% {\n",
              "      border-color: transparent;\n",
              "      border-right-color: var(--fill-color);\n",
              "      border-top-color: var(--fill-color);\n",
              "    }\n",
              "    60% {\n",
              "      border-color: transparent;\n",
              "      border-right-color: var(--fill-color);\n",
              "    }\n",
              "    80% {\n",
              "      border-color: transparent;\n",
              "      border-right-color: var(--fill-color);\n",
              "      border-bottom-color: var(--fill-color);\n",
              "    }\n",
              "    90% {\n",
              "      border-color: transparent;\n",
              "      border-bottom-color: var(--fill-color);\n",
              "    }\n",
              "  }\n",
              "</style>\n",
              "\n",
              "  <script>\n",
              "    async function quickchart(key) {\n",
              "      const quickchartButtonEl =\n",
              "        document.querySelector('#' + key + ' button');\n",
              "      quickchartButtonEl.disabled = true;  // To prevent multiple clicks.\n",
              "      quickchartButtonEl.classList.add('colab-df-spinner');\n",
              "      try {\n",
              "        const charts = await google.colab.kernel.invokeFunction(\n",
              "            'suggestCharts', [key], {});\n",
              "      } catch (error) {\n",
              "        console.error('Error during call to suggestCharts:', error);\n",
              "      }\n",
              "      quickchartButtonEl.classList.remove('colab-df-spinner');\n",
              "      quickchartButtonEl.classList.add('colab-df-quickchart-complete');\n",
              "    }\n",
              "    (() => {\n",
              "      let quickchartButtonEl =\n",
              "        document.querySelector('#df-aa342c27-5bd9-4cef-9e7f-bcd2835c810a button');\n",
              "      quickchartButtonEl.style.display =\n",
              "        google.colab.kernel.accessAllowed ? 'block' : 'none';\n",
              "    })();\n",
              "  </script>\n",
              "</div>\n",
              "    </div>\n",
              "  </div>\n"
            ]
          },
          "metadata": {},
          "execution_count": 10
        }
      ]
    },
    {
      "cell_type": "code",
      "source": [
        "f[f.duplicated()]"
      ],
      "metadata": {
        "colab": {
          "base_uri": "https://localhost:8080/",
          "height": 53
        },
        "id": "tKHPp1El6lx-",
        "outputId": "c2bccf7c-867c-4478-dc22-9614c4f433e6"
      },
      "id": "tKHPp1El6lx-",
      "execution_count": 11,
      "outputs": [
        {
          "output_type": "execute_result",
          "data": {
            "text/plain": [
              "Empty DataFrame\n",
              "Columns: [org_name, org_uuid, long_description]\n",
              "Index: []"
            ],
            "text/html": [
              "\n",
              "  <div id=\"df-b8a88fee-abc1-4cff-a462-6f804fd8a442\" class=\"colab-df-container\">\n",
              "    <div>\n",
              "<style scoped>\n",
              "    .dataframe tbody tr th:only-of-type {\n",
              "        vertical-align: middle;\n",
              "    }\n",
              "\n",
              "    .dataframe tbody tr th {\n",
              "        vertical-align: top;\n",
              "    }\n",
              "\n",
              "    .dataframe thead th {\n",
              "        text-align: right;\n",
              "    }\n",
              "</style>\n",
              "<table border=\"1\" class=\"dataframe\">\n",
              "  <thead>\n",
              "    <tr style=\"text-align: right;\">\n",
              "      <th></th>\n",
              "      <th>org_name</th>\n",
              "      <th>org_uuid</th>\n",
              "      <th>long_description</th>\n",
              "    </tr>\n",
              "  </thead>\n",
              "  <tbody>\n",
              "  </tbody>\n",
              "</table>\n",
              "</div>\n",
              "    <div class=\"colab-df-buttons\">\n",
              "\n",
              "  <div class=\"colab-df-container\">\n",
              "    <button class=\"colab-df-convert\" onclick=\"convertToInteractive('df-b8a88fee-abc1-4cff-a462-6f804fd8a442')\"\n",
              "            title=\"Convert this dataframe to an interactive table.\"\n",
              "            style=\"display:none;\">\n",
              "\n",
              "  <svg xmlns=\"http://www.w3.org/2000/svg\" height=\"24px\" viewBox=\"0 -960 960 960\">\n",
              "    <path d=\"M120-120v-720h720v720H120Zm60-500h600v-160H180v160Zm220 220h160v-160H400v160Zm0 220h160v-160H400v160ZM180-400h160v-160H180v160Zm440 0h160v-160H620v160ZM180-180h160v-160H180v160Zm440 0h160v-160H620v160Z\"/>\n",
              "  </svg>\n",
              "    </button>\n",
              "\n",
              "  <style>\n",
              "    .colab-df-container {\n",
              "      display:flex;\n",
              "      gap: 12px;\n",
              "    }\n",
              "\n",
              "    .colab-df-convert {\n",
              "      background-color: #E8F0FE;\n",
              "      border: none;\n",
              "      border-radius: 50%;\n",
              "      cursor: pointer;\n",
              "      display: none;\n",
              "      fill: #1967D2;\n",
              "      height: 32px;\n",
              "      padding: 0 0 0 0;\n",
              "      width: 32px;\n",
              "    }\n",
              "\n",
              "    .colab-df-convert:hover {\n",
              "      background-color: #E2EBFA;\n",
              "      box-shadow: 0px 1px 2px rgba(60, 64, 67, 0.3), 0px 1px 3px 1px rgba(60, 64, 67, 0.15);\n",
              "      fill: #174EA6;\n",
              "    }\n",
              "\n",
              "    .colab-df-buttons div {\n",
              "      margin-bottom: 4px;\n",
              "    }\n",
              "\n",
              "    [theme=dark] .colab-df-convert {\n",
              "      background-color: #3B4455;\n",
              "      fill: #D2E3FC;\n",
              "    }\n",
              "\n",
              "    [theme=dark] .colab-df-convert:hover {\n",
              "      background-color: #434B5C;\n",
              "      box-shadow: 0px 1px 3px 1px rgba(0, 0, 0, 0.15);\n",
              "      filter: drop-shadow(0px 1px 2px rgba(0, 0, 0, 0.3));\n",
              "      fill: #FFFFFF;\n",
              "    }\n",
              "  </style>\n",
              "\n",
              "    <script>\n",
              "      const buttonEl =\n",
              "        document.querySelector('#df-b8a88fee-abc1-4cff-a462-6f804fd8a442 button.colab-df-convert');\n",
              "      buttonEl.style.display =\n",
              "        google.colab.kernel.accessAllowed ? 'block' : 'none';\n",
              "\n",
              "      async function convertToInteractive(key) {\n",
              "        const element = document.querySelector('#df-b8a88fee-abc1-4cff-a462-6f804fd8a442');\n",
              "        const dataTable =\n",
              "          await google.colab.kernel.invokeFunction('convertToInteractive',\n",
              "                                                    [key], {});\n",
              "        if (!dataTable) return;\n",
              "\n",
              "        const docLinkHtml = 'Like what you see? Visit the ' +\n",
              "          '<a target=\"_blank\" href=https://colab.research.google.com/notebooks/data_table.ipynb>data table notebook</a>'\n",
              "          + ' to learn more about interactive tables.';\n",
              "        element.innerHTML = '';\n",
              "        dataTable['output_type'] = 'display_data';\n",
              "        await google.colab.output.renderOutput(dataTable, element);\n",
              "        const docLink = document.createElement('div');\n",
              "        docLink.innerHTML = docLinkHtml;\n",
              "        element.appendChild(docLink);\n",
              "      }\n",
              "    </script>\n",
              "  </div>\n",
              "\n",
              "    </div>\n",
              "  </div>\n"
            ]
          },
          "metadata": {},
          "execution_count": 11
        }
      ]
    },
    {
      "cell_type": "markdown",
      "source": [
        "There are no duplicated entries in f."
      ],
      "metadata": {
        "id": "OCn7arFF6nY4"
      },
      "id": "OCn7arFF6nY4"
    },
    {
      "cell_type": "code",
      "source": [
        "f.isnull().values.any()"
      ],
      "metadata": {
        "colab": {
          "base_uri": "https://localhost:8080/"
        },
        "id": "86FV5dmu7B8w",
        "outputId": "82bbe75a-7a99-43f9-a6b7-d16f5a6828d4"
      },
      "id": "86FV5dmu7B8w",
      "execution_count": 12,
      "outputs": [
        {
          "output_type": "execute_result",
          "data": {
            "text/plain": [
              "False"
            ]
          },
          "metadata": {},
          "execution_count": 12
        }
      ]
    },
    {
      "cell_type": "markdown",
      "source": [
        "There are no missing values in f."
      ],
      "metadata": {
        "id": "O5XeTznk7Dx8"
      },
      "id": "O5XeTznk7Dx8"
    },
    {
      "cell_type": "code",
      "source": [
        "f.shape[0]"
      ],
      "metadata": {
        "colab": {
          "base_uri": "https://localhost:8080/"
        },
        "id": "QwwAVlOKO8Ue",
        "outputId": "bca58f72-a2f7-46ec-8ed3-a9d42410ba57"
      },
      "id": "QwwAVlOKO8Ue",
      "execution_count": 13,
      "outputs": [
        {
          "output_type": "execute_result",
          "data": {
            "text/plain": [
              "3687"
            ]
          },
          "metadata": {},
          "execution_count": 13
        }
      ]
    },
    {
      "cell_type": "markdown",
      "source": [
        "There are 3687 unsuccessful entries"
      ],
      "metadata": {
        "id": "CQih5t8AO7GX"
      },
      "id": "CQih5t8AO7GX"
    },
    {
      "cell_type": "markdown",
      "source": [
        "# **Removing stopwords**"
      ],
      "metadata": {
        "id": "bensCobs8Rkr"
      },
      "id": "bensCobs8Rkr"
    },
    {
      "cell_type": "markdown",
      "source": [
        "These are common words in the language and they rarely provide useful information. The first word of the name of the startups are taken as stopwords as well since most of them are unique and carries not much information."
      ],
      "metadata": {
        "id": "7dwDpKpq8-oa"
      },
      "id": "7dwDpKpq8-oa"
    },
    {
      "cell_type": "code",
      "source": [
        "def remove_non_ascii(string):\n",
        "    return ''.join(char for char in string if ord(char) < 128)"
      ],
      "metadata": {
        "id": "PqI3UOMCjexY"
      },
      "id": "PqI3UOMCjexY",
      "execution_count": 14,
      "outputs": []
    },
    {
      "cell_type": "code",
      "source": [
        "def remove_stopwords(sentence,df):\n",
        "    # List of stopwords\n",
        "    stopwords = [\"a\", \"about\", \"above\", \"after\", \"again\", \"against\", \"all\", \"am\", \"an\", \"and\", \"any\", \"are\", \"as\", \"at\", \"be\", \"because\", \"been\", \"before\", \"being\", \"below\", \"between\", \"both\", \"but\", \"by\", \"could\", \"did\", \"do\", \"does\", \"doing\", \"down\", \"during\", \"each\", \"few\", \"for\", \"from\", \"further\", \"had\", \"has\", \"have\", \"having\", \"he\", \"he'd\", \"he'll\", \"he's\", \"her\", \"here\", \"here's\", \"hers\", \"herself\", \"him\", \"himself\", \"his\", \"how\", \"how's\", \"i\", \"i'd\", \"i'll\", \"i'm\", \"i've\", \"if\", \"in\", \"into\", \"is\", \"it\", \"it's\", \"its\", \"itself\", \"let's\", \"me\", \"more\", \"most\", \"my\", \"myself\", \"nor\", \"of\", \"on\", \"once\", \"only\", \"or\", \"other\", \"ought\", \"our\", \"ours\", \"ourselves\", \"out\", \"over\", \"own\", \"same\", \"she\", \"she'd\", \"she'll\", \"she's\", \"should\", \"so\", \"some\", \"such\", \"than\", \"that\", \"that's\", \"the\", \"their\", \"theirs\", \"them\", \"themselves\", \"then\", \"there\", \"there's\", \"these\", \"they\", \"they'd\", \"they'll\", \"they're\", \"they've\", \"this\", \"those\", \"through\", \"to\", \"too\", \"under\", \"until\", \"up\", \"very\", \"was\", \"we\", \"we'd\", \"we'll\", \"we're\", \"we've\", \"were\", \"what\", \"what's\", \"when\", \"when's\", \"where\", \"where's\", \"which\", \"while\", \"who\", \"who's\", \"whom\", \"why\", \"why's\", \"with\", \"would\", \"you\", \"you'd\", \"you'll\", \"you're\", \"you've\", \"your\", \"yours\", \"yourself\", \"yourselves\" ]\n",
        "    # The first word of the name of the startups\n",
        "    namelist = df.org_name.str.lower().values.tolist()\n",
        "    for i in range(len(namelist)):\n",
        "      namelist[i]=namelist[i].split(' ')[0]\n",
        "    stopwords = stopwords + namelist\n",
        "    # Sentence converted to lowercase-only\n",
        "    sentence = sentence.lower()\n",
        "    sentence = remove_non_ascii(sentence)\n",
        "    newlist=sentence.split(' ')\n",
        "    sentence=[]\n",
        "    for j in newlist:\n",
        "        for i in stopwords:\n",
        "            if i==j:\n",
        "                sentence.append(i)\n",
        "    sentence = [item for item in newlist if item not in sentence]\n",
        "    sentence=' '.join(sentence)\n",
        "    return sentence"
      ],
      "metadata": {
        "id": "vy-Sia0t7ex_"
      },
      "id": "vy-Sia0t7ex_",
      "execution_count": 15,
      "outputs": []
    },
    {
      "cell_type": "markdown",
      "source": [
        "Creating a new column (newD) for the new description with stopwords removed, and a column for the successful/fail (1/0) label"
      ],
      "metadata": {
        "id": "xuIjCAeNPhHl"
      },
      "id": "xuIjCAeNPhHl"
    },
    {
      "cell_type": "code",
      "source": [
        "s['newD']=s['long_description']\n",
        "f['newD']=f['long_description']\n",
        "s['label']=1\n",
        "f['label']=0"
      ],
      "metadata": {
        "id": "4isIHqS1Ryk4"
      },
      "id": "4isIHqS1Ryk4",
      "execution_count": 16,
      "outputs": []
    },
    {
      "cell_type": "code",
      "source": [
        "for i in range(len(s)):\n",
        "  s['newD'][i]=remove_stopwords(s.iloc[i,2],s)\n",
        "for i in range(len(f)):\n",
        "  f['newD'][i]=remove_stopwords(f.iloc[i,2],f)"
      ],
      "metadata": {
        "id": "OlezOyXLkIEX"
      },
      "id": "OlezOyXLkIEX",
      "execution_count": 17,
      "outputs": []
    },
    {
      "cell_type": "code",
      "source": [
        "s = s.drop(columns='long_description')\n",
        "s = s.drop(columns='org_name')\n",
        "s = s.drop(columns='org_uuid')\n",
        "f = f.drop(columns='long_description')\n",
        "f = f.drop(columns='org_name')\n",
        "f = f.drop(columns='org_uuid')"
      ],
      "metadata": {
        "id": "7m8M_JdMvxKn"
      },
      "id": "7m8M_JdMvxKn",
      "execution_count": 18,
      "outputs": []
    },
    {
      "cell_type": "markdown",
      "source": [
        "shuffling the successful and failed startups long description with labels together"
      ],
      "metadata": {
        "id": "mLzhmSmuhcAP"
      },
      "id": "mLzhmSmuhcAP"
    },
    {
      "cell_type": "code",
      "source": [
        "total = pd.concat([s,f])\n",
        "total=total.sample(frac=1)\n",
        "total.head()"
      ],
      "metadata": {
        "colab": {
          "base_uri": "https://localhost:8080/",
          "height": 206
        },
        "id": "kuBJYYDZTFtt",
        "outputId": "b75a5b65-2637-4b0f-f291-3c84f945bdb3"
      },
      "id": "kuBJYYDZTFtt",
      "execution_count": 19,
      "outputs": [
        {
          "output_type": "execute_result",
          "data": {
            "text/plain": [
              "                                                   newD  label\n",
              "811   worlds careers dedicated students graduates. t...      0\n",
              "118   ai-driven research company focuses increasing ...      1\n",
              "866   health technology company provides modular sup...      1\n",
              "1357  tractor operator online intended facilitate co...      0\n",
              "1921  brings industrial precision power consumer ass...      0"
            ],
            "text/html": [
              "\n",
              "  <div id=\"df-a70fb66d-cab1-476e-b1a8-83507b523159\" class=\"colab-df-container\">\n",
              "    <div>\n",
              "<style scoped>\n",
              "    .dataframe tbody tr th:only-of-type {\n",
              "        vertical-align: middle;\n",
              "    }\n",
              "\n",
              "    .dataframe tbody tr th {\n",
              "        vertical-align: top;\n",
              "    }\n",
              "\n",
              "    .dataframe thead th {\n",
              "        text-align: right;\n",
              "    }\n",
              "</style>\n",
              "<table border=\"1\" class=\"dataframe\">\n",
              "  <thead>\n",
              "    <tr style=\"text-align: right;\">\n",
              "      <th></th>\n",
              "      <th>newD</th>\n",
              "      <th>label</th>\n",
              "    </tr>\n",
              "  </thead>\n",
              "  <tbody>\n",
              "    <tr>\n",
              "      <th>811</th>\n",
              "      <td>worlds careers dedicated students graduates. t...</td>\n",
              "      <td>0</td>\n",
              "    </tr>\n",
              "    <tr>\n",
              "      <th>118</th>\n",
              "      <td>ai-driven research company focuses increasing ...</td>\n",
              "      <td>1</td>\n",
              "    </tr>\n",
              "    <tr>\n",
              "      <th>866</th>\n",
              "      <td>health technology company provides modular sup...</td>\n",
              "      <td>1</td>\n",
              "    </tr>\n",
              "    <tr>\n",
              "      <th>1357</th>\n",
              "      <td>tractor operator online intended facilitate co...</td>\n",
              "      <td>0</td>\n",
              "    </tr>\n",
              "    <tr>\n",
              "      <th>1921</th>\n",
              "      <td>brings industrial precision power consumer ass...</td>\n",
              "      <td>0</td>\n",
              "    </tr>\n",
              "  </tbody>\n",
              "</table>\n",
              "</div>\n",
              "    <div class=\"colab-df-buttons\">\n",
              "\n",
              "  <div class=\"colab-df-container\">\n",
              "    <button class=\"colab-df-convert\" onclick=\"convertToInteractive('df-a70fb66d-cab1-476e-b1a8-83507b523159')\"\n",
              "            title=\"Convert this dataframe to an interactive table.\"\n",
              "            style=\"display:none;\">\n",
              "\n",
              "  <svg xmlns=\"http://www.w3.org/2000/svg\" height=\"24px\" viewBox=\"0 -960 960 960\">\n",
              "    <path d=\"M120-120v-720h720v720H120Zm60-500h600v-160H180v160Zm220 220h160v-160H400v160Zm0 220h160v-160H400v160ZM180-400h160v-160H180v160Zm440 0h160v-160H620v160ZM180-180h160v-160H180v160Zm440 0h160v-160H620v160Z\"/>\n",
              "  </svg>\n",
              "    </button>\n",
              "\n",
              "  <style>\n",
              "    .colab-df-container {\n",
              "      display:flex;\n",
              "      gap: 12px;\n",
              "    }\n",
              "\n",
              "    .colab-df-convert {\n",
              "      background-color: #E8F0FE;\n",
              "      border: none;\n",
              "      border-radius: 50%;\n",
              "      cursor: pointer;\n",
              "      display: none;\n",
              "      fill: #1967D2;\n",
              "      height: 32px;\n",
              "      padding: 0 0 0 0;\n",
              "      width: 32px;\n",
              "    }\n",
              "\n",
              "    .colab-df-convert:hover {\n",
              "      background-color: #E2EBFA;\n",
              "      box-shadow: 0px 1px 2px rgba(60, 64, 67, 0.3), 0px 1px 3px 1px rgba(60, 64, 67, 0.15);\n",
              "      fill: #174EA6;\n",
              "    }\n",
              "\n",
              "    .colab-df-buttons div {\n",
              "      margin-bottom: 4px;\n",
              "    }\n",
              "\n",
              "    [theme=dark] .colab-df-convert {\n",
              "      background-color: #3B4455;\n",
              "      fill: #D2E3FC;\n",
              "    }\n",
              "\n",
              "    [theme=dark] .colab-df-convert:hover {\n",
              "      background-color: #434B5C;\n",
              "      box-shadow: 0px 1px 3px 1px rgba(0, 0, 0, 0.15);\n",
              "      filter: drop-shadow(0px 1px 2px rgba(0, 0, 0, 0.3));\n",
              "      fill: #FFFFFF;\n",
              "    }\n",
              "  </style>\n",
              "\n",
              "    <script>\n",
              "      const buttonEl =\n",
              "        document.querySelector('#df-a70fb66d-cab1-476e-b1a8-83507b523159 button.colab-df-convert');\n",
              "      buttonEl.style.display =\n",
              "        google.colab.kernel.accessAllowed ? 'block' : 'none';\n",
              "\n",
              "      async function convertToInteractive(key) {\n",
              "        const element = document.querySelector('#df-a70fb66d-cab1-476e-b1a8-83507b523159');\n",
              "        const dataTable =\n",
              "          await google.colab.kernel.invokeFunction('convertToInteractive',\n",
              "                                                    [key], {});\n",
              "        if (!dataTable) return;\n",
              "\n",
              "        const docLinkHtml = 'Like what you see? Visit the ' +\n",
              "          '<a target=\"_blank\" href=https://colab.research.google.com/notebooks/data_table.ipynb>data table notebook</a>'\n",
              "          + ' to learn more about interactive tables.';\n",
              "        element.innerHTML = '';\n",
              "        dataTable['output_type'] = 'display_data';\n",
              "        await google.colab.output.renderOutput(dataTable, element);\n",
              "        const docLink = document.createElement('div');\n",
              "        docLink.innerHTML = docLinkHtml;\n",
              "        element.appendChild(docLink);\n",
              "      }\n",
              "    </script>\n",
              "  </div>\n",
              "\n",
              "\n",
              "<div id=\"df-e5bfca9d-7de3-4151-91d2-a89af7269585\">\n",
              "  <button class=\"colab-df-quickchart\" onclick=\"quickchart('df-e5bfca9d-7de3-4151-91d2-a89af7269585')\"\n",
              "            title=\"Suggest charts\"\n",
              "            style=\"display:none;\">\n",
              "\n",
              "<svg xmlns=\"http://www.w3.org/2000/svg\" height=\"24px\"viewBox=\"0 0 24 24\"\n",
              "     width=\"24px\">\n",
              "    <g>\n",
              "        <path d=\"M19 3H5c-1.1 0-2 .9-2 2v14c0 1.1.9 2 2 2h14c1.1 0 2-.9 2-2V5c0-1.1-.9-2-2-2zM9 17H7v-7h2v7zm4 0h-2V7h2v10zm4 0h-2v-4h2v4z\"/>\n",
              "    </g>\n",
              "</svg>\n",
              "  </button>\n",
              "\n",
              "<style>\n",
              "  .colab-df-quickchart {\n",
              "      --bg-color: #E8F0FE;\n",
              "      --fill-color: #1967D2;\n",
              "      --hover-bg-color: #E2EBFA;\n",
              "      --hover-fill-color: #174EA6;\n",
              "      --disabled-fill-color: #AAA;\n",
              "      --disabled-bg-color: #DDD;\n",
              "  }\n",
              "\n",
              "  [theme=dark] .colab-df-quickchart {\n",
              "      --bg-color: #3B4455;\n",
              "      --fill-color: #D2E3FC;\n",
              "      --hover-bg-color: #434B5C;\n",
              "      --hover-fill-color: #FFFFFF;\n",
              "      --disabled-bg-color: #3B4455;\n",
              "      --disabled-fill-color: #666;\n",
              "  }\n",
              "\n",
              "  .colab-df-quickchart {\n",
              "    background-color: var(--bg-color);\n",
              "    border: none;\n",
              "    border-radius: 50%;\n",
              "    cursor: pointer;\n",
              "    display: none;\n",
              "    fill: var(--fill-color);\n",
              "    height: 32px;\n",
              "    padding: 0;\n",
              "    width: 32px;\n",
              "  }\n",
              "\n",
              "  .colab-df-quickchart:hover {\n",
              "    background-color: var(--hover-bg-color);\n",
              "    box-shadow: 0 1px 2px rgba(60, 64, 67, 0.3), 0 1px 3px 1px rgba(60, 64, 67, 0.15);\n",
              "    fill: var(--button-hover-fill-color);\n",
              "  }\n",
              "\n",
              "  .colab-df-quickchart-complete:disabled,\n",
              "  .colab-df-quickchart-complete:disabled:hover {\n",
              "    background-color: var(--disabled-bg-color);\n",
              "    fill: var(--disabled-fill-color);\n",
              "    box-shadow: none;\n",
              "  }\n",
              "\n",
              "  .colab-df-spinner {\n",
              "    border: 2px solid var(--fill-color);\n",
              "    border-color: transparent;\n",
              "    border-bottom-color: var(--fill-color);\n",
              "    animation:\n",
              "      spin 1s steps(1) infinite;\n",
              "  }\n",
              "\n",
              "  @keyframes spin {\n",
              "    0% {\n",
              "      border-color: transparent;\n",
              "      border-bottom-color: var(--fill-color);\n",
              "      border-left-color: var(--fill-color);\n",
              "    }\n",
              "    20% {\n",
              "      border-color: transparent;\n",
              "      border-left-color: var(--fill-color);\n",
              "      border-top-color: var(--fill-color);\n",
              "    }\n",
              "    30% {\n",
              "      border-color: transparent;\n",
              "      border-left-color: var(--fill-color);\n",
              "      border-top-color: var(--fill-color);\n",
              "      border-right-color: var(--fill-color);\n",
              "    }\n",
              "    40% {\n",
              "      border-color: transparent;\n",
              "      border-right-color: var(--fill-color);\n",
              "      border-top-color: var(--fill-color);\n",
              "    }\n",
              "    60% {\n",
              "      border-color: transparent;\n",
              "      border-right-color: var(--fill-color);\n",
              "    }\n",
              "    80% {\n",
              "      border-color: transparent;\n",
              "      border-right-color: var(--fill-color);\n",
              "      border-bottom-color: var(--fill-color);\n",
              "    }\n",
              "    90% {\n",
              "      border-color: transparent;\n",
              "      border-bottom-color: var(--fill-color);\n",
              "    }\n",
              "  }\n",
              "</style>\n",
              "\n",
              "  <script>\n",
              "    async function quickchart(key) {\n",
              "      const quickchartButtonEl =\n",
              "        document.querySelector('#' + key + ' button');\n",
              "      quickchartButtonEl.disabled = true;  // To prevent multiple clicks.\n",
              "      quickchartButtonEl.classList.add('colab-df-spinner');\n",
              "      try {\n",
              "        const charts = await google.colab.kernel.invokeFunction(\n",
              "            'suggestCharts', [key], {});\n",
              "      } catch (error) {\n",
              "        console.error('Error during call to suggestCharts:', error);\n",
              "      }\n",
              "      quickchartButtonEl.classList.remove('colab-df-spinner');\n",
              "      quickchartButtonEl.classList.add('colab-df-quickchart-complete');\n",
              "    }\n",
              "    (() => {\n",
              "      let quickchartButtonEl =\n",
              "        document.querySelector('#df-e5bfca9d-7de3-4151-91d2-a89af7269585 button');\n",
              "      quickchartButtonEl.style.display =\n",
              "        google.colab.kernel.accessAllowed ? 'block' : 'none';\n",
              "    })();\n",
              "  </script>\n",
              "</div>\n",
              "    </div>\n",
              "  </div>\n"
            ]
          },
          "metadata": {},
          "execution_count": 19
        }
      ]
    },
    {
      "cell_type": "markdown",
      "source": [
        "Calculating and plotting the number of words for each modified description"
      ],
      "metadata": {
        "id": "WmcvZaxcxH5N"
      },
      "id": "WmcvZaxcxH5N"
    },
    {
      "cell_type": "code",
      "source": [
        "s['wordcount']=0\n",
        "f['wordcount']=0\n",
        "for i in range(len(s)):\n",
        "  s['wordcount'][i]=len(s['newD'][i].split(' '))\n",
        "for i in range(len(f)):\n",
        "  f['wordcount'][i]=len(f['newD'][i].split(' '))"
      ],
      "metadata": {
        "id": "qos4sF8xwUJn"
      },
      "id": "qos4sF8xwUJn",
      "execution_count": 20,
      "outputs": []
    },
    {
      "cell_type": "markdown",
      "source": [
        "A visual scan tells us most startups have description fewer than 120 words, and thus set MAXLEN=120"
      ],
      "metadata": {
        "id": "drj4CxnQSPP-"
      },
      "id": "drj4CxnQSPP-"
    },
    {
      "cell_type": "code",
      "source": [
        "fig, axes = plt.subplots(1, 2, figsize=(15, 5))\n",
        "\n",
        "sns.histplot(s['wordcount'], kde=True, ax=axes[0])\n",
        "axes[0].set_title('Plot of wordcount of successful startups')\n",
        "\n",
        "sns.histplot(f['wordcount'], kde=True, ax=axes[1])\n",
        "axes[1].set_title('Plot of wordcount of unsuccessful startups')\n",
        "\n",
        "plt.show()"
      ],
      "metadata": {
        "colab": {
          "base_uri": "https://localhost:8080/",
          "height": 487
        },
        "id": "wtGQLaj7-7A1",
        "outputId": "0f42d4f1-a7a1-48ed-8bd8-fcc39031cacd"
      },
      "id": "wtGQLaj7-7A1",
      "execution_count": 21,
      "outputs": [
        {
          "output_type": "display_data",
          "data": {
            "text/plain": [
              "<Figure size 1500x500 with 2 Axes>"
            ],
            "image/png": "[encoded data removed]"
          },
          "metadata": {}
        }
      ]
    },
    {
      "cell_type": "markdown",
      "source": [
        "## Defining useful global variables\n",
        "[tf.keras.preprocessing.text.Tokenizer - reference link](https://www.tensorflow.org/api_docs/python/tf/keras/preprocessing/text/Tokenizer)\n",
        "\n",
        "Define some global variables that will be used in the unit tests\n",
        "\n",
        "- `NUM_WORDS`: The maximum number of words to keep, based on word frequency. Only the most common num_words-1 words will be kept.\n",
        "\n",
        "- `EMBEDDING_DIM`: Dimension of the dense embedding, will be used in the embedding layer of the model.\n",
        "\n",
        "\n",
        "- `MAXLEN`: Maximum length of all sequences.\n",
        "\n",
        "\n",
        "- `PADDING`: Padding strategy (pad either before or after each sequence.).\n",
        "\n",
        "\n",
        "- `OOV_TOKEN`: Token to replace out-of-vocabulary words during text_to_sequence calls. Defaults to \"\\<OOV>\".\n",
        "\n",
        "    \n",
        "- `TRAINING_SPLIT`: Proportion of data used for training."
      ],
      "metadata": {
        "id": "blSbxYJIZk93"
      },
      "id": "blSbxYJIZk93"
    },
    {
      "cell_type": "code",
      "source": [
        "NUM_WORDS = 10000\n",
        "EMBEDDING_DIM = 8\n",
        "MAXLEN = 120\n",
        "PADDING = 'post'\n",
        "OOV_TOKEN = \"<OOV>\"\n",
        "TRAINING_SPLIT = .7"
      ],
      "metadata": {
        "id": "7wy8iVFtVNPd"
      },
      "id": "7wy8iVFtVNPd",
      "execution_count": 22,
      "outputs": []
    },
    {
      "cell_type": "markdown",
      "source": [
        "## Training - Validation Split\n",
        "\n",
        "Split the lists into training and validation sentences with a 0.7/0.3 split."
      ],
      "metadata": {
        "id": "E96Gj7EMZvrI"
      },
      "id": "E96Gj7EMZvrI"
    },
    {
      "cell_type": "code",
      "source": [
        "def train_val_split(sentences, labels, training_split):\n",
        "  train_size = len(sentences)\n",
        "  train_sentences = sentences[0:round(training_split*train_size)]\n",
        "  train_labels = labels[0:round(training_split*train_size)]\n",
        "  validation_sentences = sentences[round(training_split*train_size):]\n",
        "  validation_labels = labels[round(training_split*train_size):]\n",
        "  return train_sentences, validation_sentences, train_labels, validation_labels"
      ],
      "metadata": {
        "id": "1lNiU2xKZ2YV"
      },
      "id": "1lNiU2xKZ2YV",
      "execution_count": 23,
      "outputs": []
    },
    {
      "cell_type": "code",
      "source": [
        "train_sentences, val_sentences, train_labels, val_labels = train_val_split(total.newD, total.label, TRAINING_SPLIT)"
      ],
      "metadata": {
        "id": "aeQkyB4GaP6S"
      },
      "id": "aeQkyB4GaP6S",
      "execution_count": 24,
      "outputs": []
    },
    {
      "cell_type": "markdown",
      "source": [
        "## Tokenization - Sequences and padding"
      ],
      "metadata": {
        "id": "0c5SRBpVTAQv"
      },
      "id": "0c5SRBpVTAQv"
    },
    {
      "cell_type": "code",
      "source": [
        "def fit_tokenizer(train_sentences, num_words, oov_token):\n",
        "  # Instantiate the Tokenizer class, passing in the correct values for num_words and oov_token\n",
        "  tokenizer = tf.keras.preprocessing.text.Tokenizer(num_words = num_words, oov_token=oov_token)\n",
        "  # Fit the tokenizer to the training sentences\n",
        "  tokenizer.fit_on_texts(train_sentences)\n",
        "  return tokenizer"
      ],
      "metadata": {
        "id": "y5b-ifuxSpzN"
      },
      "id": "y5b-ifuxSpzN",
      "execution_count": 25,
      "outputs": []
    },
    {
      "cell_type": "code",
      "source": [
        "tokenizer = fit_tokenizer(train_sentences, NUM_WORDS, OOV_TOKEN)\n",
        "word_index = tokenizer.word_index\n",
        "print(f\"Vocabulary contains {len(word_index)} words\\n\")\n",
        "print(\"<OOV> token included in vocabulary\" if \"<OOV>\" in word_index else \"<OOV> token NOT included in vocabulary\")"
      ],
      "metadata": {
        "colab": {
          "base_uri": "https://localhost:8080/"
        },
        "id": "YMHNYJ3si2et",
        "outputId": "5cb0a46e-60cf-4c81-988b-7e4c178bcd00"
      },
      "id": "YMHNYJ3si2et",
      "execution_count": 26,
      "outputs": [
        {
          "output_type": "stream",
          "name": "stdout",
          "text": [
            "Vocabulary contains 20855 words\n",
            "\n",
            "<OOV> token included in vocabulary\n"
          ]
        }
      ]
    },
    {
      "cell_type": "markdown",
      "source": [
        "**Convert each text data point into its padded sequence representation.**"
      ],
      "metadata": {
        "id": "Z8hbvjAzjN4u"
      },
      "id": "Z8hbvjAzjN4u"
    },
    {
      "cell_type": "code",
      "source": [
        "def seq_and_pad(sentences, tokenizer, padding, maxlen):\n",
        "  # Convert sentences to sequences\n",
        "  sequences = tokenizer.texts_to_sequences(sentences)\n",
        "  # Pad the sequences using the correct padding and maxlen\n",
        "  padded_sequences = tf.keras.utils.pad_sequences(sequences, maxlen=maxlen, padding=padding)\n",
        "  return padded_sequences"
      ],
      "metadata": {
        "id": "lTHfvn9njOs6"
      },
      "id": "lTHfvn9njOs6",
      "execution_count": 27,
      "outputs": []
    },
    {
      "cell_type": "code",
      "source": [
        "train_padded_seq = seq_and_pad(train_sentences, tokenizer, PADDING, MAXLEN)\n",
        "val_padded_seq = seq_and_pad(val_sentences, tokenizer, PADDING, MAXLEN)\n",
        "total_padded_seq = seq_and_pad(total.newD, tokenizer, PADDING, MAXLEN)\n",
        "\n",
        "print(f\"Padded training sequences have shape: {train_padded_seq.shape}\\n\")\n",
        "print(f\"Padded validation sequences have shape: {val_padded_seq.shape}\\n\")\n",
        "print(f\"Padded total sequences have shape: {total_padded_seq.shape}\")"
      ],
      "metadata": {
        "colab": {
          "base_uri": "https://localhost:8080/"
        },
        "id": "0vFZoa96jeyU",
        "outputId": "faad3879-3cc0-4507-a3b0-71af0062304b"
      },
      "id": "0vFZoa96jeyU",
      "execution_count": 29,
      "outputs": [
        {
          "output_type": "stream",
          "name": "stdout",
          "text": [
            "Padded training sequences have shape: (4090, 120)\n",
            "\n",
            "Padded validation sequences have shape: (1753, 120)\n",
            "\n",
            "Padded total sequences have shape: (5843, 120)\n"
          ]
        }
      ]
    },
    {
      "cell_type": "markdown",
      "source": [
        "**Building the architecture of a neural network with three dense layers.**"
      ],
      "metadata": {
        "id": "hR6A-QbpLViJ"
      },
      "id": "hR6A-QbpLViJ"
    },
    {
      "cell_type": "code",
      "source": [
        "def create_model(num_words, embedding_dim, maxlen):\n",
        "  tf.random.set_seed(123)\n",
        "  model = tf.keras.Sequential([\n",
        "        tf.keras.layers.Embedding(num_words, embedding_dim,input_length=maxlen),\n",
        "    tf.keras.layers.GlobalAveragePooling1D(),\n",
        "    tf.keras.layers.Dense(163, activation='softmax'),\n",
        "    tf.keras.layers.Dense(57, activation='sigmoid'),\n",
        "    tf.keras.layers.Dense(17),\n",
        "    tf.keras.layers.Dense(2, activation='softmax')])\n",
        "\n",
        "  model.compile(loss=\"sparse_categorical_crossentropy\",\n",
        "                  optimizer='adam',\n",
        "                  metrics=['accuracy'])\n",
        "  return model"
      ],
      "metadata": {
        "id": "yuQp11hRkfwn"
      },
      "id": "yuQp11hRkfwn",
      "execution_count": 30,
      "outputs": []
    },
    {
      "cell_type": "code",
      "source": [
        "model = create_model(NUM_WORDS, EMBEDDING_DIM, MAXLEN)\n",
        "history = model.fit(train_padded_seq, train_labels, epochs=20, validation_data=(val_padded_seq, val_labels))"
      ],
      "metadata": {
        "id": "Kyf6t_zVkn38",
        "colab": {
          "base_uri": "https://localhost:8080/"
        },
        "outputId": "72d961f7-06da-47e7-e082-44ec25a1b93b"
      },
      "id": "Kyf6t_zVkn38",
      "execution_count": 31,
      "outputs": [
        {
          "output_type": "stream",
          "name": "stdout",
          "text": [
            "Epoch 1/20\n",
            "128/128 [==============================] - 1s 4ms/step - loss: 0.6593 - accuracy: 0.6386 - val_loss: 0.6764 - val_accuracy: 0.6132\n",
            "Epoch 2/20\n",
            "128/128 [==============================] - 0s 2ms/step - loss: 0.6572 - accuracy: 0.6386 - val_loss: 0.6687 - val_accuracy: 0.6132\n",
            "Epoch 3/20\n",
            "128/128 [==============================] - 0s 2ms/step - loss: 0.6595 - accuracy: 0.6386 - val_loss: 0.6765 - val_accuracy: 0.6132\n",
            "Epoch 4/20\n",
            "128/128 [==============================] - 0s 3ms/step - loss: 0.6552 - accuracy: 0.6386 - val_loss: 0.6851 - val_accuracy: 0.6132\n",
            "Epoch 5/20\n",
            "128/128 [==============================] - 0s 3ms/step - loss: 0.6552 - accuracy: 0.6386 - val_loss: 0.6655 - val_accuracy: 0.6132\n",
            "Epoch 6/20\n",
            "128/128 [==============================] - 0s 2ms/step - loss: 0.6489 - accuracy: 0.6386 - val_loss: 0.6566 - val_accuracy: 0.6132\n",
            "Epoch 7/20\n",
            "128/128 [==============================] - 0s 3ms/step - loss: 0.6216 - accuracy: 0.6516 - val_loss: 0.6334 - val_accuracy: 0.6144\n",
            "Epoch 8/20\n",
            "128/128 [==============================] - 0s 3ms/step - loss: 0.5069 - accuracy: 0.7707 - val_loss: 0.4502 - val_accuracy: 0.7998\n",
            "Epoch 9/20\n",
            "128/128 [==============================] - 0s 3ms/step - loss: 0.3004 - accuracy: 0.8817 - val_loss: 0.3428 - val_accuracy: 0.8494\n",
            "Epoch 10/20\n",
            "128/128 [==============================] - 0s 2ms/step - loss: 0.2080 - accuracy: 0.9196 - val_loss: 0.3393 - val_accuracy: 0.8597\n",
            "Epoch 11/20\n",
            "128/128 [==============================] - 0s 2ms/step - loss: 0.1629 - accuracy: 0.9359 - val_loss: 0.3302 - val_accuracy: 0.8711\n",
            "Epoch 12/20\n",
            "128/128 [==============================] - 0s 2ms/step - loss: 0.1302 - accuracy: 0.9491 - val_loss: 0.3278 - val_accuracy: 0.8774\n",
            "Epoch 13/20\n",
            "128/128 [==============================] - 0s 2ms/step - loss: 0.1069 - accuracy: 0.9570 - val_loss: 0.3504 - val_accuracy: 0.8739\n",
            "Epoch 14/20\n",
            "128/128 [==============================] - 0s 3ms/step - loss: 0.0863 - accuracy: 0.9682 - val_loss: 0.3618 - val_accuracy: 0.8774\n",
            "Epoch 15/20\n",
            "128/128 [==============================] - 0s 2ms/step - loss: 0.0697 - accuracy: 0.9753 - val_loss: 0.3438 - val_accuracy: 0.8819\n",
            "Epoch 16/20\n",
            "128/128 [==============================] - 0s 2ms/step - loss: 0.0577 - accuracy: 0.9792 - val_loss: 0.3655 - val_accuracy: 0.8825\n",
            "Epoch 17/20\n",
            "128/128 [==============================] - 0s 2ms/step - loss: 0.0476 - accuracy: 0.9841 - val_loss: 0.3857 - val_accuracy: 0.8836\n",
            "Epoch 18/20\n",
            "128/128 [==============================] - 0s 2ms/step - loss: 0.0389 - accuracy: 0.9878 - val_loss: 0.4123 - val_accuracy: 0.8819\n",
            "Epoch 19/20\n",
            "128/128 [==============================] - 0s 2ms/step - loss: 0.0331 - accuracy: 0.9888 - val_loss: 0.4191 - val_accuracy: 0.8842\n",
            "Epoch 20/20\n",
            "128/128 [==============================] - 0s 2ms/step - loss: 0.0282 - accuracy: 0.9917 - val_loss: 0.4378 - val_accuracy: 0.8848\n"
          ]
        }
      ]
    },
    {
      "cell_type": "code",
      "source": [
        "model.summary()"
      ],
      "metadata": {
        "colab": {
          "base_uri": "https://localhost:8080/"
        },
        "id": "FBT9TCQtr26v",
        "outputId": "f1ebec9e-c002-45cb-ab33-37bf35f87bc4"
      },
      "id": "FBT9TCQtr26v",
      "execution_count": 32,
      "outputs": [
        {
          "output_type": "stream",
          "name": "stdout",
          "text": [
            "Model: \"sequential\"\n",
            "_________________________________________________________________\n",
            " Layer (type)                Output Shape              Param #   \n",
            "=================================================================\n",
            " embedding (Embedding)       (None, 120, 8)            80000     \n",
            "                                                                 \n",
            " global_average_pooling1d (  (None, 8)                 0         \n",
            " GlobalAveragePooling1D)                                         \n",
            "                                                                 \n",
            " dense (Dense)               (None, 163)               1467      \n",
            "                                                                 \n",
            " dense_1 (Dense)             (None, 57)                9348      \n",
            "                                                                 \n",
            " dense_2 (Dense)             (None, 17)                986       \n",
            "                                                                 \n",
            " dense_3 (Dense)             (None, 2)                 36        \n",
            "                                                                 \n",
            "=================================================================\n",
            "Total params: 91837 (358.74 KB)\n",
            "Trainable params: 91837 (358.74 KB)\n",
            "Non-trainable params: 0 (0.00 Byte)\n",
            "_________________________________________________________________\n"
          ]
        }
      ]
    },
    {
      "cell_type": "code",
      "source": [
        "test_pred = model.predict(val_padded_seq)\n",
        "test_pred = np.argmax(test_pred, axis=-1)\n",
        "\n",
        "# Printing the classification report\n",
        "print(classification_report(val_labels, test_pred))\n",
        "\n",
        "# Plotting the heatmap using confusion matrix\n",
        "cm = confusion_matrix(val_labels, test_pred)\n",
        "plt.figure(figsize=(8,5))\n",
        "sns.heatmap(cm, annot=True,  fmt='.0f')\n",
        "plt.ylabel('Actual')\n",
        "plt.xlabel('Predicted')\n",
        "plt.show()"
      ],
      "metadata": {
        "colab": {
          "base_uri": "https://localhost:8080/",
          "height": 640
        },
        "id": "BXGhgfycW-_J",
        "outputId": "02ac52db-2efb-4058-b7ba-71194502812a"
      },
      "id": "BXGhgfycW-_J",
      "execution_count": 33,
      "outputs": [
        {
          "output_type": "stream",
          "name": "stdout",
          "text": [
            "55/55 [==============================] - 0s 909us/step\n",
            "              precision    recall  f1-score   support\n",
            "\n",
            "           0       0.88      0.94      0.91      1075\n",
            "           1       0.89      0.80      0.84       678\n",
            "\n",
            "    accuracy                           0.88      1753\n",
            "   macro avg       0.89      0.87      0.88      1753\n",
            "weighted avg       0.89      0.88      0.88      1753\n",
            "\n"
          ]
        },
        {
          "output_type": "display_data",
          "data": {
            "text/plain": [
              "<Figure size 800x500 with 2 Axes>"
            ],
            "image/png": "[encoded data removed]"
          },
          "metadata": {}
        }
      ]
    },
    {
      "cell_type": "markdown",
      "source": [
        "For this 0.7 training/validation split trial, the model returns an accuracy of 88%, a precision of 89% and a recall of 80%.\n",
        "\n",
        "A zero rate classifier will classify all startups into 0, and thus a baseline accuracy of 62%."
      ],
      "metadata": {
        "id": "xTBn8BqtLZjl"
      },
      "id": "xTBn8BqtLZjl"
    },
    {
      "cell_type": "code",
      "source": [
        "def plot_graphs(history, metric):\n",
        "    plt.plot(history.history[metric])\n",
        "    plt.plot(history.history[f'val_{metric}'])\n",
        "    plt.xlabel(\"Epochs\")\n",
        "    plt.ylabel(metric)\n",
        "    plt.legend([metric, f'val_{metric}'])\n",
        "    plt.show()\n",
        "\n",
        "plot_graphs(history, \"accuracy\")\n",
        "plot_graphs(history, \"loss\")"
      ],
      "metadata": {
        "colab": {
          "base_uri": "https://localhost:8080/",
          "height": 881
        },
        "id": "z7sjN1d-k_iN",
        "outputId": "d0b70b0b-558b-47f2-ebf1-ebc7d655051f"
      },
      "id": "z7sjN1d-k_iN",
      "execution_count": 34,
      "outputs": [
        {
          "output_type": "display_data",
          "data": {
            "text/plain": [
              "<Figure size 640x480 with 1 Axes>"
            ],
            "image/png": "[encoded data removed]"
          },
          "metadata": {}
        },
        {
          "output_type": "display_data",
          "data": {
            "text/plain": [
              "<Figure size 640x480 with 1 Axes>"
            ],
            "image/png": "[encoded data removed]"
          },
          "metadata": {}
        }
      ]
    },
    {
      "cell_type": "markdown",
      "source": [
        "The model is overfitting after about 8 epochs."
      ],
      "metadata": {
        "id": "KKqXJK86Nv2R"
      },
      "id": "KKqXJK86Nv2R"
    },
    {
      "cell_type": "markdown",
      "source": [
        "**Apart from training the model with a 0.7/0.3 split, we could use 5-fold cross validation to access the performance of this model. We compute the F1 score, recall, precision and accuracy.**"
      ],
      "metadata": {
        "id": "wsjm1LueETOg"
      },
      "id": "wsjm1LueETOg"
    },
    {
      "cell_type": "code",
      "source": [
        "k_fold = KFold(n_splits=5, shuffle=True, random_state=219)\n",
        "estimator = KerasClassifier(build_fn=create_model(NUM_WORDS, EMBEDDING_DIM, MAXLEN), epochs=20, batch_size=32, verbose=0)"
      ],
      "metadata": {
        "id": "hpJeaifBEdCI"
      },
      "id": "hpJeaifBEdCI",
      "execution_count": 35,
      "outputs": []
    },
    {
      "cell_type": "code",
      "source": [
        "from sklearn.metrics import make_scorer, f1_score, precision_score, recall_score, accuracy_score\n",
        "scoring = {\n",
        "    'f1_score': make_scorer(f1_score),\n",
        "    'precision': make_scorer(precision_score),\n",
        "    'recall': make_scorer(recall_score),\n",
        "    'accuracy': make_scorer(accuracy_score)\n",
        "}"
      ],
      "metadata": {
        "id": "m-Fc4gSyFxQ0"
      },
      "id": "m-Fc4gSyFxQ0",
      "execution_count": 41,
      "outputs": []
    },
    {
      "cell_type": "code",
      "source": [
        "scores = cross_validate(estimator, total_padded_seq, total['label'], cv=k_fold, scoring=scoring)"
      ],
      "metadata": {
        "id": "J--JCNgOGCrp"
      },
      "id": "J--JCNgOGCrp",
      "execution_count": null,
      "outputs": []
    },
    {
      "cell_type": "code",
      "source": [
        "print(\"Cross-Validation Mean F1-score: {:.3f}\".format(np.mean(scores['test_f1_score'])))\n",
        "print(\"Cross-Validation Mean Precision: {:.3f}\".format(np.mean(scores['test_precision'])))\n",
        "print(\"Cross-Validation Mean Recall: {:.3f}\".format(np.mean(scores['test_recall'])))\n",
        "print(\"Cross-Validation Mean Accuracy: {:.3f}\".format(np.mean(scores['test_accuracy'])))"
      ],
      "metadata": {
        "colab": {
          "base_uri": "https://localhost:8080/"
        },
        "id": "EwnvT88AGW4D",
        "outputId": "db5d53c8-6be6-4425-90b2-54ec408ff45a"
      },
      "id": "EwnvT88AGW4D",
      "execution_count": 45,
      "outputs": [
        {
          "output_type": "stream",
          "name": "stdout",
          "text": [
            "Cross-Validation Mean F1-score: 0.845\n",
            "Cross-Validation Mean Precision: 0.883\n",
            "Cross-Validation Mean Recall: 0.812\n",
            "Cross-Validation Mean Accuracy: 0.890\n"
          ]
        }
      ]
    },
    {
      "cell_type": "markdown",
      "source": [
        "**Baseline model where the outcome is either 1 or 0 randomly for comparison**"
      ],
      "metadata": {
        "id": "CdyE5EY-GrmF"
      },
      "id": "CdyE5EY-GrmF"
    },
    {
      "cell_type": "code",
      "source": [
        "test_pred = np.random.randint(0,2,len(val_padded_seq))\n",
        "\n",
        "# Printing the classification report\n",
        "print(classification_report(val_labels, test_pred))\n",
        "\n",
        "# Plotting the heatmap using confusion matrix\n",
        "cm = confusion_matrix(val_labels, test_pred)\n",
        "plt.figure(figsize=(8,5))\n",
        "sns.heatmap(cm, annot=True,  fmt='.0f')\n",
        "plt.ylabel('Actual')\n",
        "plt.xlabel('Predicted')\n",
        "plt.show()"
      ],
      "metadata": {
        "colab": {
          "base_uri": "https://localhost:8080/",
          "height": 621
        },
        "id": "_fVnje1bGjVj",
        "outputId": "7dd0ac7e-a761-439a-9d40-4bc9ddab1902"
      },
      "id": "_fVnje1bGjVj",
      "execution_count": 46,
      "outputs": [
        {
          "output_type": "stream",
          "name": "stdout",
          "text": [
            "              precision    recall  f1-score   support\n",
            "\n",
            "           0       0.60      0.48      0.53      1075\n",
            "           1       0.37      0.48      0.42       678\n",
            "\n",
            "    accuracy                           0.48      1753\n",
            "   macro avg       0.48      0.48      0.48      1753\n",
            "weighted avg       0.51      0.48      0.49      1753\n",
            "\n"
          ]
        },
        {
          "output_type": "display_data",
          "data": {
            "text/plain": [
              "<Figure size 800x500 with 2 Axes>"
            ],
            "image/png": "[encoded data removed]"
          },
          "metadata": {}
        }
      ]
    },
    {
      "cell_type": "markdown",
      "source": [
        "A random classification would return a F1 score of 42%, precision of 37%, recall of 48%, and accuracy of 48%.\n",
        "\n",
        "The deep learned model would return a F1 score of 85%, precision of 88%, recall of 81% and accuracy of 89%."
      ],
      "metadata": {
        "id": "JL9qslXyHiuB"
      },
      "id": "JL9qslXyHiuB"
    }
  ],
  "metadata": {
    "kernelspec": {
      "display_name": "Python 3 (ipykernel)",
      "language": "python",
      "name": "python3"
    },
    "language_info": {
      "codemirror_mode": {
        "name": "ipython",
        "version": 3
      },
      "file_extension": ".py",
      "mimetype": "text/x-python",
      "name": "python",
      "nbconvert_exporter": "python",
      "pygments_lexer": "ipython3",
      "version": "3.9.12"
    },
    "colab": {
      "provenance": []
    }
  },
  "nbformat": 4,
  "nbformat_minor": 5
}